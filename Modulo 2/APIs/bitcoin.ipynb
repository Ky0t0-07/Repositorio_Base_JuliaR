{
 "cells": [
  {
   "cell_type": "code",
   "execution_count": 33,
   "id": "02c231e2",
   "metadata": {},
   "outputs": [
    {
     "name": "stdout",
     "output_type": "stream",
     "text": [
      "200\n",
      "623119\n"
     ]
    }
   ],
   "source": [
    "# Consumir uma píblica para retomar o valor do Bitcoin\n",
    "# em tempo real, nas moedas, Dólar e Euro\n",
    "\n",
    "import requests\n",
    "\n",
    "valorcript = requests.get('https://api.coingecko.com/api/v3/simple/price?ids=bitcoin&vs_currencies=brl,usd,eur')\n",
    "\n",
    "print(valorcript.status_code)\n",
    "\n",
    "#print(valorcript.text)\n",
    "\n",
    "moeda = valorcript.json()\n",
    "\n",
    "print(moeda['bitcoin']['brl'])\n"
   ]
  },
  {
   "cell_type": "code",
   "execution_count": 34,
   "id": "9cdcae81",
   "metadata": {},
   "outputs": [
    {
     "name": "stdout",
     "output_type": "stream",
     "text": [
      "Valor de 1 bitcoin em reais: R$ 623,119.00\n"
     ]
    }
   ],
   "source": [
    "bitcoinreais = moeda['bitcoin']['brl']\n",
    "print(f'Valor de 1 bitcoin em reais: R$ {bitcoinreais:,.2f}')"
   ]
  },
  {
   "cell_type": "code",
   "execution_count": 36,
   "id": "44ec324c",
   "metadata": {},
   "outputs": [
    {
     "name": "stdout",
     "output_type": "stream",
     "text": [
      "Valor de 1 bitcoin em dolar: $ 114,942.00\n"
     ]
    }
   ],
   "source": [
    "bitcoindolar = moeda['bitcoin']['usd']\n",
    "print (f'Valor de 1 bitcoin em dolar: $ {bitcoindolar:,.2f}')"
   ]
  },
  {
   "cell_type": "code",
   "execution_count": 37,
   "id": "9a33a1dd",
   "metadata": {},
   "outputs": [
    {
     "name": "stdout",
     "output_type": "stream",
     "text": [
      "Valor de 1 bitcoin em euro: € 98,036.00\n"
     ]
    }
   ],
   "source": [
    "bitcoineuro = moeda['bitcoin']['eur']\n",
    "print (f'Valor de 1 bitcoin em euro: € {bitcoineuro:,.2f}')"
   ]
  }
 ],
 "metadata": {
  "kernelspec": {
   "display_name": ".venv",
   "language": "python",
   "name": "python3"
  },
  "language_info": {
   "codemirror_mode": {
    "name": "ipython",
    "version": 3
   },
   "file_extension": ".py",
   "mimetype": "text/x-python",
   "name": "python",
   "nbconvert_exporter": "python",
   "pygments_lexer": "ipython3",
   "version": "3.13.2"
  }
 },
 "nbformat": 4,
 "nbformat_minor": 5
}
