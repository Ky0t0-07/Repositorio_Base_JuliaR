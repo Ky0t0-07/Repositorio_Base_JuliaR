{
 "cells": [
  {
   "cell_type": "code",
   "execution_count": 1,
   "id": "139605fd",
   "metadata": {},
   "outputs": [
    {
     "name": "stdout",
     "output_type": "stream",
     "text": [
      "hello word\n"
     ]
    }
   ],
   "source": [
    "print(\"hello word\")"
   ]
  },
  {
   "cell_type": "code",
   "execution_count": 1,
   "id": "cda00065",
   "metadata": {},
   "outputs": [],
   "source": [
    "import sqlite3\n",
    "\n",
    "conexao = sqlite3.connect('dados.db')\n",
    "\n",
    "cursor = conexao.cursor()"
   ]
  },
  {
   "cell_type": "code",
   "execution_count": 26,
   "id": "7511c1f8",
   "metadata": {},
   "outputs": [
    {
     "data": {
      "text/plain": [
       "<function Connection.close()>"
      ]
     },
     "execution_count": 26,
     "metadata": {},
     "output_type": "execute_result"
    }
   ],
   "source": [
    "cursor.execute('''\n",
    "\n",
    "\n",
    "                CREATE TABLE IF NOT EXISTS  produtos (\n",
    "\n",
    "                    id INTEGER PRIMARY KEY AUTOINCREMENT,\n",
    "                    marca VARCHAR(50) NOT NULL,\n",
    "                    produto VARCHAR(50) NOT NULL,\n",
    "                    quantidade INTEGER,\n",
    "                    valor DECIMAL NOT NULL\n",
    "                );\n",
    "\n",
    "\n",
    "\n",
    "\n",
    "                ''')\n",
    "conexao.commit()\n",
    "conexao.close\n",
    "\n",
    "\n"
   ]
  },
  {
   "cell_type": "code",
   "execution_count": 2,
   "id": "e15ff0ac",
   "metadata": {},
   "outputs": [
    {
     "data": {
      "text/plain": [
       "<function Connection.close()>"
      ]
     },
     "execution_count": 2,
     "metadata": {},
     "output_type": "execute_result"
    }
   ],
   "source": [
    "cursor.execute(\"INSERT INTO produtos ('marca','produto','quantidade','valor') VALUES ('Moura','Bateria 60ah', 10,500);\")\n",
    "cursor.execute(\"INSERT INTO produtos ('marca','produto','quantidade','valor') VALUES ('Ac Delco','Bateria 60ah', 15,450);\")\n",
    "\n",
    "conexao.commit()\n",
    "conexao.close"
   ]
  },
  {
   "cell_type": "code",
   "execution_count": 3,
   "id": "6259d5a4",
   "metadata": {},
   "outputs": [
    {
     "name": "stdout",
     "output_type": "stream",
     "text": [
      "(1, 'Moura', 'Bateria 60ah', 10, 500)\n",
      "(2, 'Ac Delco', 'Bateria 60ah', 15, 450)\n"
     ]
    }
   ],
   "source": [
    "conexao = sqlite3.connect('dados.db')\n",
    "cursor = conexao.cursor()\n",
    "\n",
    "consulta = cursor.execute(\"select *from produtos;\")\n",
    "\n",
    "imprimir = consulta.fetchall()\n",
    "\n",
    "for i in imprimir:\n",
    "    print(i)"
   ]
  }
 ],
 "metadata": {
  "kernelspec": {
   "display_name": ".venv",
   "language": "python",
   "name": "python3"
  },
  "language_info": {
   "codemirror_mode": {
    "name": "ipython",
    "version": 3
   },
   "file_extension": ".py",
   "mimetype": "text/x-python",
   "name": "python",
   "nbconvert_exporter": "python",
   "pygments_lexer": "ipython3",
   "version": "3.13.2"
  }
 },
 "nbformat": 4,
 "nbformat_minor": 5
}
